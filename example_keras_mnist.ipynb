{
  "nbformat": 4,
  "nbformat_minor": 0,
  "metadata": {
    "colab": {
      "provenance": [],
      "authorship_tag": "ABX9TyM9Qbkz43kWOrGC2UzNwMcE",
      "include_colab_link": true
    },
    "kernelspec": {
      "name": "python3",
      "display_name": "Python 3"
    },
    "language_info": {
      "name": "python"
    }
  },
  "cells": [
    {
      "cell_type": "markdown",
      "metadata": {
        "id": "view-in-github",
        "colab_type": "text"
      },
      "source": [
        "<a href=\"https://colab.research.google.com/github/tsainez/shiny-octo-palm-tree/blob/main/example_keras_mnist.ipynb\" target=\"_parent\"><img src=\"https://colab.research.google.com/assets/colab-badge.svg\" alt=\"Open In Colab\"/></a>"
      ]
    },
    {
      "cell_type": "markdown",
      "source": [
        "Building and running a Keras model proceeds in four steps:\n",
        "\n",
        "1. data preprocessing\n",
        "2. model definition\n",
        "3. model compilation\n",
        "4. model training plus evaluation\n",
        "\n",
        "One of the core strengths of Keras is that this four-step cycle can be done quickly, which leads to a fast experimentation cycle. This is of great importance because often your initial model definition can be improved a lot by tweaking parameters."
      ],
      "metadata": {
        "id": "Dgju3nLtgK3W"
      }
    },
    {
      "cell_type": "code",
      "execution_count": 12,
      "metadata": {
        "id": "j2tLzt6Qb_tw"
      },
      "outputs": [],
      "source": [
        "# Importing models, layers, and data sets from Keras\n",
        "import keras\n",
        "from keras.datasets import mnist # an example dataset\n",
        "from keras.models import Sequential\n",
        "from keras.layers import Dense"
      ]
    },
    {
      "cell_type": "code",
      "source": [
        "# Loading and preprocessing MNIST data with Keras\n",
        "(x_train, y_train), (x_test, y_test) = mnist.load_data()\n",
        "\n",
        "x_train = x_train.reshape(60000, 784)\n",
        "x_test = x_test.reshape(10000, 784)\n",
        "x_train = x_train.astype('float32')\n",
        "x_test = x_test.astype('float32')\n",
        "x_train /= 255\n",
        "x_test /= 255\n",
        "\n",
        "y_train = keras.utils.to_categorical(y_train, 10)\n",
        "y_test = keras.utils.to_categorical(y_test, 10)"
      ],
      "metadata": {
        "id": "7xvCXmqec96y"
      },
      "execution_count": 13,
      "outputs": []
    },
    {
      "cell_type": "markdown",
      "source": [
        "With data ready to go, you can now proceed to define a neural network to run. "
      ],
      "metadata": {
        "id": "3LyW7OOXfyhk"
      }
    },
    {
      "cell_type": "code",
      "source": [
        "# Building a simple sequential model with Keras\n",
        "model = Sequential()\n",
        "model.add(Dense(392, activation='sigmoid', input_shape=(784,)))\n",
        "model.add(Dense(196, activation='sigmoid'))\n",
        "model.add(Dense(10, activation='sigmoid'))\n",
        "model.summary()"
      ],
      "metadata": {
        "colab": {
          "base_uri": "https://localhost:8080/"
        },
        "id": "L6Pww31IdYfB",
        "outputId": "12b96ee9-44ab-4079-d4f4-afa3ebe8a51c"
      },
      "execution_count": 14,
      "outputs": [
        {
          "output_type": "stream",
          "name": "stdout",
          "text": [
            "Model: \"sequential_1\"\n",
            "_________________________________________________________________\n",
            " Layer (type)                Output Shape              Param #   \n",
            "=================================================================\n",
            " dense_3 (Dense)             (None, 392)               307720    \n",
            "                                                                 \n",
            " dense_4 (Dense)             (None, 196)               77028     \n",
            "                                                                 \n",
            " dense_5 (Dense)             (None, 10)                1970      \n",
            "                                                                 \n",
            "=================================================================\n",
            "Total params: 386,718\n",
            "Trainable params: 386,718\n",
            "Non-trainable params: 0\n",
            "_________________________________________________________________\n"
          ]
        }
      ]
    },
    {
      "cell_type": "markdown",
      "source": [
        "The next step in creating a Keras model is to *compile* the model with a [loss function](https://keras.io/api/losses/) and an optimizer. "
      ],
      "metadata": {
        "id": "ICSsk46lf3pE"
      }
    },
    {
      "cell_type": "code",
      "source": [
        "# Compiling a Keras deep-learning model\n",
        "loss_fn = keras.losses.MeanSquaredError(reduction=\"auto\", name=\"mean_squared_error\")\n",
        "\n",
        "model.compile(loss=loss_fn,\n",
        "              optimizer='sgd',\n",
        "              metrics=['accuracy'])"
      ],
      "metadata": {
        "id": "8MN7HgByfdiI"
      },
      "execution_count": 18,
      "outputs": []
    },
    {
      "cell_type": "markdown",
      "source": [
        "Carry out the training step of the network and then evaluate it on test data. "
      ],
      "metadata": {
        "id": "tISs58aCgElC"
      }
    },
    {
      "cell_type": "code",
      "source": [
        "# Training and evaluating a Keras model\n",
        "model.fit(x_train, y_train,\n",
        "          batch_size=128,\n",
        "          epochs=20)\n",
        "score = model.evaluate(x_test, y_test)\n",
        "print('Test loss:', score[0])\n",
        "print('Test accuracy:', score[1])"
      ],
      "metadata": {
        "colab": {
          "base_uri": "https://localhost:8080/"
        },
        "id": "AJLHplnBgxaW",
        "outputId": "7a98ac48-09d4-4377-da53-7a12cc8a3639"
      },
      "execution_count": 20,
      "outputs": [
        {
          "output_type": "stream",
          "name": "stdout",
          "text": [
            "Epoch 1/20\n",
            "469/469 [==============================] - 5s 11ms/step - loss: 0.0894 - accuracy: 0.1199\n",
            "Epoch 2/20\n",
            "469/469 [==============================] - 4s 9ms/step - loss: 0.0894 - accuracy: 0.1214\n",
            "Epoch 3/20\n",
            "469/469 [==============================] - 4s 9ms/step - loss: 0.0894 - accuracy: 0.1212\n",
            "Epoch 4/20\n",
            "469/469 [==============================] - 5s 12ms/step - loss: 0.0894 - accuracy: 0.1226\n",
            "Epoch 5/20\n",
            "469/469 [==============================] - 4s 9ms/step - loss: 0.0893 - accuracy: 0.1236\n",
            "Epoch 6/20\n",
            "469/469 [==============================] - 4s 9ms/step - loss: 0.0893 - accuracy: 0.1234\n",
            "Epoch 7/20\n",
            "469/469 [==============================] - 5s 12ms/step - loss: 0.0893 - accuracy: 0.1258\n",
            "Epoch 8/20\n",
            "469/469 [==============================] - 4s 9ms/step - loss: 0.0892 - accuracy: 0.1275\n",
            "Epoch 9/20\n",
            "469/469 [==============================] - 4s 9ms/step - loss: 0.0892 - accuracy: 0.1294\n",
            "Epoch 10/20\n",
            "469/469 [==============================] - 5s 11ms/step - loss: 0.0892 - accuracy: 0.1315\n",
            "Epoch 11/20\n",
            "469/469 [==============================] - 4s 9ms/step - loss: 0.0892 - accuracy: 0.1331\n",
            "Epoch 12/20\n",
            "469/469 [==============================] - 4s 9ms/step - loss: 0.0891 - accuracy: 0.1392\n",
            "Epoch 13/20\n",
            "469/469 [==============================] - 5s 11ms/step - loss: 0.0891 - accuracy: 0.1423\n",
            "Epoch 14/20\n",
            "469/469 [==============================] - 4s 9ms/step - loss: 0.0891 - accuracy: 0.1485\n",
            "Epoch 15/20\n",
            "469/469 [==============================] - 5s 10ms/step - loss: 0.0891 - accuracy: 0.1480\n",
            "Epoch 16/20\n",
            "469/469 [==============================] - 5s 10ms/step - loss: 0.0890 - accuracy: 0.1621\n",
            "Epoch 17/20\n",
            "469/469 [==============================] - 4s 9ms/step - loss: 0.0890 - accuracy: 0.1650\n",
            "Epoch 18/20\n",
            "469/469 [==============================] - 5s 11ms/step - loss: 0.0890 - accuracy: 0.1726\n",
            "Epoch 19/20\n",
            "469/469 [==============================] - 5s 10ms/step - loss: 0.0889 - accuracy: 0.1698\n",
            "Epoch 20/20\n",
            "469/469 [==============================] - 4s 9ms/step - loss: 0.0889 - accuracy: 0.1798\n",
            "313/313 [==============================] - 1s 3ms/step - loss: 0.0889 - accuracy: 0.1882\n",
            "Test loss: 0.08885039389133453\n",
            "Test accuracy: 0.1881999969482422\n"
          ]
        }
      ]
    }
  ]
}