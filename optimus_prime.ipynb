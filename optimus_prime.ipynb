{
  "nbformat": 4,
  "nbformat_minor": 0,
  "metadata": {
    "colab": {
      "provenance": [],
      "authorship_tag": "ABX9TyOOQ2fVRLeGbriqUu3/7BTS",
      "include_colab_link": true
    },
    "kernelspec": {
      "name": "python3",
      "display_name": "Python 3"
    },
    "language_info": {
      "name": "python"
    }
  },
  "cells": [
    {
      "cell_type": "markdown",
      "metadata": {
        "id": "view-in-github",
        "colab_type": "text"
      },
      "source": [
        "<a href=\"https://colab.research.google.com/github/tsainez/shiny-octo-palm-tree/blob/main/optimus_prime.ipynb\" target=\"_parent\"><img src=\"https://colab.research.google.com/assets/colab-badge.svg\" alt=\"Open In Colab\"/></a>"
      ]
    },
    {
      "cell_type": "markdown",
      "source": [
        "Build pseudo-primes data set"
      ],
      "metadata": {
        "id": "ymCdpgzq-_M9"
      }
    },
    {
      "cell_type": "code",
      "execution_count": 2,
      "metadata": {
        "id": "rTQ5MpSw-yJ8"
      },
      "outputs": [],
      "source": [
        "primes_1 = [2, 3, 5, 7, 11, 13, 17, 19, 23, 29, 31, 37, 41, 43, 47, 53, 59, 61, 67, 71, 73, 79, 83, 89, 97, 101, 103, 107, 109, 113, 127, 131, 137, 139, 149, 151, 157, 163, 167, 173, 179, 181, 191, 193, 197, 199, 211, 223, 227, 229, 233, 239, 241, 251, 257, 263, 269, 271, 277, 281, 283, 293, 307, 311, 313, 317, 331, 337, 347, 349, 353, 359, 367, 373, 379, 383, 389, 397, 401, 409, 419, 421, 431, 433, 439, 443, 449, 457, 461, 463, 467, 479, 487, 491, 499, 503, 509, 521, 523, 541]\n",
        "primes_2 = primes_1"
      ]
    },
    {
      "cell_type": "code",
      "source": [
        "file = open('optimus_prime.csv', 'w')\n",
        "for prime_1 in primes_1:\n",
        "  for prime_2 in primes_2:\n",
        "    if prime_1 >= prime_2:\n",
        "      continue\n",
        "    file.write(f\"{prime_1 * prime_2}, {prime_1}, {prime_2}\\n\")\n",
        "file.close()"
      ],
      "metadata": {
        "id": "UgjHwq2N_WDH"
      },
      "execution_count": 4,
      "outputs": []
    },
    {
      "cell_type": "code",
      "source": [
        "from pandas import read_csv\n",
        "import keras\n",
        "from keras.models import Sequential\n",
        "from keras.layers import Dense"
      ],
      "metadata": {
        "id": "bbcE9cskAd7p"
      },
      "execution_count": 15,
      "outputs": []
    },
    {
      "cell_type": "code",
      "source": [
        "feature_names = ['product', 'prime_1', 'prime_2']\n",
        "\n",
        "df = read_csv(\"optimus_prime.csv\", header=None)\n",
        "df.columns = feature_names\n",
        "X = df.drop('prime_1', axis=1).drop('prime_2', axis=1)\n",
        "Y = df['prime_1']"
      ],
      "metadata": {
        "id": "nRLiHeNmDWWl"
      },
      "execution_count": 88,
      "outputs": []
    },
    {
      "cell_type": "code",
      "source": [
        "model = Sequential()\n",
        "model.add(Dense(128, input_dim=1, activation='relu'))\n",
        "model.add(Dense(64, activation='relu'))\n",
        "model.add(Dense(32, activation='relu'))\n",
        "model.add(Dense(16, activation='relu'))\n",
        "model.add(Dense(1, activation='linear'))\n",
        "\n",
        "model.compile(loss='mean_squared_error', optimizer='adam', metrics=['mae'])\n",
        "model.summary()"
      ],
      "metadata": {
        "colab": {
          "base_uri": "https://localhost:8080/"
        },
        "id": "IJvzvkdfFiK1",
        "outputId": "48190226-930b-4abf-cd90-7e873373c854"
      },
      "execution_count": 89,
      "outputs": [
        {
          "output_type": "stream",
          "name": "stdout",
          "text": [
            "Model: \"sequential_13\"\n",
            "_________________________________________________________________\n",
            " Layer (type)                Output Shape              Param #   \n",
            "=================================================================\n",
            " dense_47 (Dense)            (None, 128)               256       \n",
            "                                                                 \n",
            " dense_48 (Dense)            (None, 64)                8256      \n",
            "                                                                 \n",
            " dense_49 (Dense)            (None, 32)                2080      \n",
            "                                                                 \n",
            " dense_50 (Dense)            (None, 16)                528       \n",
            "                                                                 \n",
            " dense_51 (Dense)            (None, 1)                 17        \n",
            "                                                                 \n",
            "=================================================================\n",
            "Total params: 11,137\n",
            "Trainable params: 11,137\n",
            "Non-trainable params: 0\n",
            "_________________________________________________________________\n"
          ]
        }
      ]
    },
    {
      "cell_type": "code",
      "source": [
        "model.fit(X, Y, epochs=10)"
      ],
      "metadata": {
        "colab": {
          "base_uri": "https://localhost:8080/"
        },
        "id": "uHzY8OBiGNP8",
        "outputId": "881b929e-1b69-47bb-d73d-41b472cbbb9a"
      },
      "execution_count": 90,
      "outputs": [
        {
          "output_type": "stream",
          "name": "stdout",
          "text": [
            "Epoch 1/10\n",
            "155/155 [==============================] - 1s 2ms/step - loss: 299455.0312 - mae: 151.2216\n",
            "Epoch 2/10\n",
            "155/155 [==============================] - 0s 2ms/step - loss: 2422.0850 - mae: 35.3538\n",
            "Epoch 3/10\n",
            "155/155 [==============================] - 0s 2ms/step - loss: 13579.9209 - mae: 69.8973\n",
            "Epoch 4/10\n",
            "155/155 [==============================] - 0s 2ms/step - loss: 4759.4155 - mae: 46.1446\n",
            "Epoch 5/10\n",
            "155/155 [==============================] - 0s 2ms/step - loss: 7466.1792 - mae: 53.1456\n",
            "Epoch 6/10\n",
            "155/155 [==============================] - 0s 2ms/step - loss: 35222.8477 - mae: 98.5047\n",
            "Epoch 7/10\n",
            "155/155 [==============================] - 0s 2ms/step - loss: 31512.4883 - mae: 89.0346\n",
            "Epoch 8/10\n",
            "155/155 [==============================] - 0s 2ms/step - loss: 23515.3438 - mae: 79.6903\n",
            "Epoch 9/10\n",
            "155/155 [==============================] - 0s 2ms/step - loss: 4254.7500 - mae: 43.8338\n",
            "Epoch 10/10\n",
            "155/155 [==============================] - 0s 3ms/step - loss: 45360.4766 - mae: 103.7198\n"
          ]
        },
        {
          "output_type": "execute_result",
          "data": {
            "text/plain": [
              "<keras.callbacks.History at 0x7f01aa2f2be0>"
            ]
          },
          "metadata": {},
          "execution_count": 90
        }
      ]
    },
    {
      "cell_type": "code",
      "source": [
        "model.predict([10])"
      ],
      "metadata": {
        "colab": {
          "base_uri": "https://localhost:8080/"
        },
        "id": "91AOkAh7Gg7k",
        "outputId": "4912c29c-2764-4f88-f856-3c08c9390002"
      },
      "execution_count": 92,
      "outputs": [
        {
          "output_type": "stream",
          "name": "stdout",
          "text": [
            "1/1 [==============================] - 0s 40ms/step\n"
          ]
        },
        {
          "output_type": "execute_result",
          "data": {
            "text/plain": [
              "array([[1.335633]], dtype=float32)"
            ]
          },
          "metadata": {},
          "execution_count": 92
        }
      ]
    }
  ]
}